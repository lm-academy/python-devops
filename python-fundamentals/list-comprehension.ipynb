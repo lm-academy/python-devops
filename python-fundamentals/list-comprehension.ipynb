{
 "cells": [
  {
   "cell_type": "markdown",
   "id": "a57d26ce",
   "metadata": {},
   "source": [
    "# Concise Iteration: List Comprehensions\n",
    "\n",
    "Simple `for` loops to create lists can be verbose. We can leverage list comprehensions to define the list contents directly within square brackets, obtaining a more compact syntax."
   ]
  },
  {
   "cell_type": "code",
   "execution_count": 7,
   "id": "0bc29d4d",
   "metadata": {},
   "outputs": [
    {
     "name": "stdout",
     "output_type": "stream",
     "text": [
      "[2, 4, 6, 8]\n",
      "[2, 4, 6, 8]\n"
     ]
    }
   ],
   "source": [
    "# Example: Double items using a for loop\n",
    "old_items = [1, 2, 3, 4]\n",
    "doubled_items = []\n",
    "\n",
    "for item in old_items:\n",
    "    doubled_items.append(item * 2)\n",
    "\n",
    "print(doubled_items)\n",
    "\n",
    "# Example: Double items using list comprehension\n",
    "doubled_items_with_comprehension = [item * 2 for item in old_items]\n",
    "print(doubled_items_with_comprehension)"
   ]
  },
  {
   "cell_type": "markdown",
   "id": "f9746b6d",
   "metadata": {},
   "source": [
    "## List Comprehension Syntax\n",
    "\n",
    "- Syntax: `[<expression> for <item> in <iterable>]`\n",
    "- `[]` indicates a new list is created eagerly.\n",
    "- `<expression>` is applied to each item.\n",
    "- `for <item> in <iterable>` defines the loop."
   ]
  },
  {
   "cell_type": "code",
   "execution_count": 8,
   "id": "716cb804",
   "metadata": {},
   "outputs": [
    {
     "name": "stdout",
     "output_type": "stream",
     "text": [
      "['WEB', 'DB', 'BACKEND']\n"
     ]
    }
   ],
   "source": [
    "servers = [\"web\", \"db\", \"backend\"]\n",
    "uppercase_servers = [server.upper() for server in servers]\n",
    "print(uppercase_servers)"
   ]
  },
  {
   "cell_type": "markdown",
   "id": "d1e1c765",
   "metadata": {},
   "source": [
    "## Filtering with `if` in Comprehensions\n",
    "\n",
    "- Purpose: Include only items meeting a condition.\n",
    "- Syntax: `[<expression> for <item> in <iterable> if <condition>]`.\n",
    "- The condition filters items before expression is evaluated."
   ]
  },
  {
   "cell_type": "code",
   "execution_count": 10,
   "id": "d82281a3",
   "metadata": {},
   "outputs": [
    {
     "name": "stdout",
     "output_type": "stream",
     "text": [
      "[11, 9, 3]\n"
     ]
    }
   ],
   "source": [
    "numbers = [1, 5, 10, 8, 2, 15]\n",
    "even_numbers = [num + 1 for num in numbers if num % 2 == 0]\n",
    "print(even_numbers)"
   ]
  },
  {
   "cell_type": "markdown",
   "id": "beb64197",
   "metadata": {},
   "source": [
    "# Set and Dictionary Comprehensions\n",
    "\n",
    "- Set comprehension uses `{}` and produces unique items.\n",
    "- Dictionary comprehension uses `{key: value ...}`.\n",
    "- Both evaluated eagerly like list comprehensions."
   ]
  },
  {
   "cell_type": "code",
   "execution_count": 18,
   "id": "51c28a23",
   "metadata": {},
   "outputs": [
    {
     "name": "stdout",
     "output_type": "stream",
     "text": [
      "{16, 1, 4, 9}\n",
      "{'web': '192.168.1.0', 'backend': '192.168.1.1'}\n"
     ]
    }
   ],
   "source": [
    "numbers = [1, 2, 3, 2, 4, 1, 3]\n",
    "unique_squares = {x * x for x in numbers}\n",
    "print(unique_squares)\n",
    "\n",
    "servers = [\"web\", \"backend\"]\n",
    "server_ips = {server: f\"192.168.1.{i}\" for i, server in enumerate(servers)}\n",
    "print(server_ips)"
   ]
  },
  {
   "cell_type": "markdown",
   "id": "efa888c4",
   "metadata": {},
   "source": [
    "# Conditional Expression (Ternary Operator)\n",
    "\n",
    "- Purpose: Apply different expressions based on a condition within the comprehension.\n",
    "- Syntax: `<value_if_true> if <condition> else <value_if_false>` inside the comprehension.\n",
    "- Places the ternary before the `for` clause."
   ]
  },
  {
   "cell_type": "code",
   "execution_count": 21,
   "id": "6e7bdc52",
   "metadata": {},
   "outputs": [
    {
     "name": "stdout",
     "output_type": "stream",
     "text": [
      "['FAIL', 'FAIL', 'PASS', 'PASS', 'FAIL', 'PASS']\n"
     ]
    }
   ],
   "source": [
    "numbers = [1, 5, 10, 8, 2, 15]\n",
    "categories = [\"PASS\" if num >= 8 else \"FAIL\" for num in numbers]\n",
    "print(categories)"
   ]
  },
  {
   "cell_type": "code",
   "execution_count": null,
   "id": "416db3f9-e822-41cf-84b3-8323a6be6e5a",
   "metadata": {},
   "outputs": [],
   "source": []
  }
 ],
 "metadata": {
  "kernelspec": {
   "display_name": "Python 3 (ipykernel)",
   "language": "python",
   "name": "python3"
  },
  "language_info": {
   "codemirror_mode": {
    "name": "ipython",
    "version": 3
   },
   "file_extension": ".py",
   "mimetype": "text/x-python",
   "name": "python",
   "nbconvert_exporter": "python",
   "pygments_lexer": "ipython3",
   "version": "3.13.3"
  }
 },
 "nbformat": 4,
 "nbformat_minor": 5
}
