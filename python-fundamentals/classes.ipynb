{
 "cells": [
  {
   "cell_type": "markdown",
   "id": "7d950d2f",
   "metadata": {},
   "source": [
    "# Classes and Objects\n",
    "- **Beyond Built-ins:** Python lets you define your own data types using `class`.\n",
    "- **Class:** A blueprint or template for creating objects. Defines attributes (data) and methods (behavior). Convention: `PascalCase` names (`MyClass`).\n",
    "- **Object (Instance):** A specific item created from a class blueprint. Each object has its own set of attribute values but shares the methods defined by the class. `obj1 = MyClass()`, `obj2 = MyClass()`. `obj1` and `obj2` are distinct objects."
   ]
  },
  {
   "cell_type": "markdown",
   "id": "6f0cd9da",
   "metadata": {},
   "source": [
    "## Defining a Class & `__init__` (The Constructor)\n",
    "- **`__init__(self, ...)`:** Special method for initialization. `self` is always the first parameter and represents the instance itself. Other parameters receive arguments passed during object creation.\n",
    "- **Instance Attributes (`self.x = ...`):** Data attached to *this specific object*. Created inside methods (usually `__init__`) using `self.attribute_name = value`."
   ]
  },
  {
   "cell_type": "code",
   "execution_count": 19,
   "id": "9f9dd0df-f550-4e62-a2b1-8120515ba266",
   "metadata": {},
   "outputs": [],
   "source": [
    "class ServiceMonitor:\n",
    "    \"\"\"Provides service checks for a single service\"\"\"\n",
    "    def __init__(self, service_name, port):\n",
    "        \"\"\"Initializes the monitor for a specific service.\n",
    "\n",
    "        Args:\n",
    "            service_name (str): the name of the service.\n",
    "            port (int): the port to use for checks.\n",
    "        \"\"\"\n",
    "        print(f\"Initializing monitor for service {service_name} on port {port}.\")\n",
    "        self.service = service_name\n",
    "        self.port = port\n",
    "        self.is_alive = False"
   ]
  },
  {
   "cell_type": "markdown",
   "id": "22189fc2",
   "metadata": {},
   "source": [
    "## Creating Instances (Objects)\n",
    "- **Mechanism:** Call the class name as if it were a function, passing any arguments required by `__init__` (after `self`).\n",
    "- Python automatically creates the object and passes it as `self` to `__init__`."
   ]
  },
  {
   "cell_type": "code",
   "execution_count": 20,
   "id": "e340ef79-e5b8-403b-a176-19f0b7781a31",
   "metadata": {},
   "outputs": [
    {
     "name": "stdout",
     "output_type": "stream",
     "text": [
      "Initializing monitor for service nginx on port 80.\n",
      "True\n",
      "Initializing monitor for service redis on port 6379.\n",
      "True\n",
      "nginx\n",
      "redis\n"
     ]
    }
   ],
   "source": [
    "nginx_monitor = ServiceMonitor(\"nginx\", 80)\n",
    "print(isinstance(nginx_monitor, ServiceMonitor))\n",
    "\n",
    "redis_monitor = ServiceMonitor(service_name=\"redis\", port=6379)\n",
    "print(isinstance(redis_monitor, ServiceMonitor))\n",
    "\n",
    "print(nginx_monitor.service)\n",
    "print(redis_monitor.service)"
   ]
  },
  {
   "cell_type": "markdown",
   "id": "496f707c",
   "metadata": {},
   "source": [
    "## Instance Methods: Object Behavior\n",
    "- **Definition:** Functions defined *inside* a class definition.\n",
    "- **First Parameter:** Always `self` (by strong convention), allowing the method to access and modify the instance's attributes (`self.attribute_name`).\n",
    "- **Calling:** Use dot notation on an instance: `instance.method_name(arguments)`. Python automatically passes the instance (`instance`) as the `self` argument."
   ]
  },
  {
   "cell_type": "code",
   "execution_count": 23,
   "id": "8e6fae9d-5b6d-422a-903d-90526a32c5db",
   "metadata": {},
   "outputs": [
    {
     "name": "stdout",
     "output_type": "stream",
     "text": [
      "Initializing monitor for service nginx on port 80.\n",
      "METHOD: Checking nginx on port 80...\n",
      "METHOD: Status for service nginx: Alive\n",
      "Received status: True\n"
     ]
    }
   ],
   "source": [
    "class ServiceMonitor:\n",
    "    \"\"\"Provides service checks for a single service\"\"\"\n",
    "    def __init__(self, service_name, port):\n",
    "        \"\"\"Initializes the monitor for a specific service.\n",
    "\n",
    "        Args:\n",
    "            service_name (str): the name of the service.\n",
    "            port (int): the port to use for checks.\n",
    "        \"\"\"\n",
    "        print(f\"Initializing monitor for service {service_name} on port {port}.\")\n",
    "        self.service = service_name\n",
    "        self.port = port\n",
    "        self.is_alive = False\n",
    "\n",
    "    def check(self):\n",
    "        \"\"\"Simulates checking the service status\"\"\"\n",
    "        print(f\"METHOD: Checking {self.service} on port {self.port}...\")\n",
    "        self.is_alive = True\n",
    "        print(f\"METHOD: Status for service {self.service}: {\"Alive\" if self.is_alive else \"Down\"}\")\n",
    "        return self.is_alive\n",
    "\n",
    "nginx_monitor = ServiceMonitor(\"nginx\", 80)\n",
    "status = nginx_monitor.check()\n",
    "print(f\"Received status: {status}\")"
   ]
  },
  {
   "cell_type": "markdown",
   "id": "ecf706a6",
   "metadata": {},
   "source": [
    "## Basic Inheritance: Reusing and Extending\n",
    "- **Concept:** Create a new class (Child/Subclass) that inherits properties (attributes and methods) from an existing class (Parent/Superclass). Promotes code reuse (DRY).\n",
    "- **Syntax:** `class ChildClassName(ParentClassName):`\n",
    "- **Inherited Members:** The Child automatically gets all methods and attributes defined in the Parent.\n",
    "- **Specializing:** The Child can:\n",
    "  - Add *new* attributes and methods.\n",
    "  - *Override* parent methods by defining a method with the same name.\n",
    "- **`super()`:** Inside the Child's methods, use `super().method_name(...)` to explicitly call the Parent's version of a method (very common in `__init__`)."
   ]
  },
  {
   "cell_type": "code",
   "execution_count": 34,
   "id": "8949c112",
   "metadata": {},
   "outputs": [
    {
     "name": "stdout",
     "output_type": "stream",
     "text": [
      "Initializing monitor for service web on port 8080.\n",
      "Initializing monitor for service nginx on port 80.\n",
      "METHOD: Pinging url http://localhost\n",
      "METHOD: Checking web on port 8080...\n",
      "METHOD: Status for service web: Alive\n",
      "METHOD: Performing HTTP check on http://localhost\n",
      "METHOD: Checking nginx on port 80...\n",
      "METHOD: Status for service nginx: Alive\n"
     ]
    },
    {
     "data": {
      "text/plain": [
       "True"
      ]
     },
     "execution_count": 34,
     "metadata": {},
     "output_type": "execute_result"
    }
   ],
   "source": [
    "class HttpServiceMonitor(ServiceMonitor):\n",
    "    \"\"\"Extends ServiceMonitor to add an HTTP endpoint check.\"\"\"\n",
    "    def __init__(self, service_name, port, url):\n",
    "        super().__init__(service_name, port)\n",
    "        self.url = url\n",
    "\n",
    "    def ping(self):\n",
    "        \"\"\"Ping url provided when creating instance.\"\"\"\n",
    "        print(f\"METHOD: Pinging url {self.url}\")\n",
    "\n",
    "    def check(self):\n",
    "        alive = super().check()\n",
    "        print(f\"METHOD: Performing HTTP check on {self.url}\")\n",
    "\n",
    "http_monitor = HttpServiceMonitor(\"web\", 8080, \"http://localhost\")\n",
    "nginx_monitor = ServiceMonitor(\"nginx\", 80)\n",
    "\n",
    "http_monitor.ping()\n",
    "http_monitor.check()\n",
    "# nginx_monitor.ping() # Uncommenting will raise AttributeError since ping() is a method only of the subclass\n",
    "nginx_monitor.check()"
   ]
  },
  {
   "cell_type": "code",
   "execution_count": null,
   "id": "437475bc-f9c6-43a4-9c62-b418f894296d",
   "metadata": {},
   "outputs": [],
   "source": []
  }
 ],
 "metadata": {
  "kernelspec": {
   "display_name": "Python 3 (ipykernel)",
   "language": "python",
   "name": "python3"
  },
  "language_info": {
   "codemirror_mode": {
    "name": "ipython",
    "version": 3
   },
   "file_extension": ".py",
   "mimetype": "text/x-python",
   "name": "python",
   "nbconvert_exporter": "python",
   "pygments_lexer": "ipython3",
   "version": "3.13.3"
  }
 },
 "nbformat": 4,
 "nbformat_minor": 5
}
