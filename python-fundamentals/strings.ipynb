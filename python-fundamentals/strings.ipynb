{
 "cells": [
  {
   "cell_type": "markdown",
   "id": "369af8d8-d881-4b2a-8ab8-7d0256d7d358",
   "metadata": {},
   "source": [
    "# Strings"
   ]
  },
  {
   "cell_type": "markdown",
   "id": "7845c5c4",
   "metadata": {},
   "source": [
    "## String Manipulation\n",
    "\n",
    "- Strings are ordered, immutable sequences of characters.\n",
    "- Use single or double quotes consistently; triple quotes for multi-line strings or docstrings."
   ]
  },
  {
   "cell_type": "code",
   "execution_count": 18,
   "id": "5071b74a",
   "metadata": {},
   "outputs": [
    {
     "name": "stdout",
     "output_type": "stream",
     "text": [
      "\n",
      "I will not be indented\n",
      "    I will be indented\n",
      "\n"
     ]
    }
   ],
   "source": [
    "single_line_str = \"Double quoted\"\n",
    "single_line_str2 = 'Single quoted'\n",
    "\n",
    "command_template = \"\"\"\n",
    "I will not be indented\n",
    "    I will be indented\n",
    "\"\"\"\n",
    "\n",
    "print(command_template)"
   ]
  },
  {
   "cell_type": "markdown",
   "id": "34371c3e",
   "metadata": {},
   "source": [
    "## Format Output using f-string\n",
    "\n",
    "**Tip:** f-strings allow inline expression evaluation and formatting, making string construction concise and readable."
   ]
  },
  {
   "cell_type": "code",
   "execution_count": 28,
   "id": "b1b1007b",
   "metadata": {},
   "outputs": [
    {
     "name": "stdout",
     "output_type": "stream",
     "text": [
      "Result: 3.5\n",
      "Result: 3.5\n"
     ]
    }
   ],
   "source": [
    "math_division = 7/2\n",
    "print(f\"Result: {math_division}\")\n",
    "print(f\"Result: {7/2}\")"
   ]
  },
  {
   "cell_type": "markdown",
   "id": "53d76649",
   "metadata": {},
   "source": [
    "### Common Operations and Essential String Methods\n",
    "\n",
    "- Concatenation (`+`): Joins strings.\n",
    "- Length (`len()`): Gets the number of characters.\n",
    "- Indexing (`[]`): Access a character by position (0-based).\n",
    "- Slicing (`[:]`): Extract substrings.\n",
    "- `.lower() / .upper()`\n",
    "- `.strip() / .lstrip() / .rstrip()`\n",
    "- `.startswith() / .endswith()`\n",
    "- `.split() / .join()`\n",
    "- `.replace()`"
   ]
  },
  {
   "cell_type": "code",
   "execution_count": 46,
   "id": "b30131e9",
   "metadata": {
    "scrolled": true
   },
   "outputs": [
    {
     "name": "stdout",
     "output_type": "stream",
     "text": [
      "     Python for DevOps    \n",
      "Result of .strip(): Python for DevOps\n",
      "Result of .lstrip(): Python for DevOps    \n",
      "Result of .rstrip():      Python for DevOps\n",
      "Result of .upper():      PYTHON FOR DEVOPS    \n",
      "Result of .lower():      python for devops    \n",
      "True\n",
      "True\n",
      "path parts: ['', 'usr', 'local', 'bin']\n",
      "joined path paths: \\usr\\local\\bin\n",
      "/usr/local/bin/python\n",
      "14\n",
      "r\n",
      "r/local\n",
      "r/local/bin\n",
      "/usr/local\n"
     ]
    }
   ],
   "source": [
    "course_title = \"     Python for DevOps    \"\n",
    "print(course_title)\n",
    "print(f\"Result of .strip(): {course_title.strip()}\")\n",
    "print(f\"Result of .lstrip(): {course_title.lstrip()}\")\n",
    "print(f\"Result of .rstrip(): {course_title.rstrip()}\")\n",
    "print(f\"Result of .upper(): {course_title.upper()}\")\n",
    "print(f\"Result of .lower(): {course_title.lower()}\")\n",
    "\n",
    "filename = \"file.yaml\"\n",
    "print(filename.startswith(\"file\"))\n",
    "print(filename.endswith(\"yaml\"))\n",
    "\n",
    "path = \"/usr/local/bin\"\n",
    "path_parts = path.split(\"/\")\n",
    "print(f\"path parts: {path_parts}\")\n",
    "print(f\"joined path paths: {\"\\\\\".join(path_parts)}\")\n",
    "\n",
    "print(path + \"/python\")\n",
    "print(len(path))\n",
    "print(path[3])\n",
    "print(path[3:10])\n",
    "print(path[3:])\n",
    "print(path[:10])"
   ]
  },
  {
   "cell_type": "markdown",
   "id": "bd325a2b-71d3-4434-96c1-4d5c2a426877",
   "metadata": {},
   "source": [
    "### String Immutability\n",
    "\n",
    "Strings are immutable, meaning you cannot change a string in place; operations that seem to modify a string actually create and return a new string object."
   ]
  },
  {
   "cell_type": "code",
   "execution_count": 50,
   "id": "23ea841e",
   "metadata": {},
   "outputs": [
    {
     "name": "stdout",
     "output_type": "stream",
     "text": [
      "     Python for DevOps    \n",
      "Result of .strip(): Python for DevOps\n",
      "Result of .lstrip(): Python for DevOps    \n",
      "Result of .rstrip():      Python for DevOps\n",
      "Result of .upper():      PYTHON FOR DEVOPS    \n",
      "Result of .lower():      python for devops    \n",
      "     Python for DevOps    \n"
     ]
    }
   ],
   "source": [
    "course_title = \"     Python for DevOps    \"\n",
    "print(course_title)\n",
    "print(f\"Result of .strip(): {course_title.strip()}\")\n",
    "print(f\"Result of .lstrip(): {course_title.lstrip()}\")\n",
    "print(f\"Result of .rstrip(): {course_title.rstrip()}\")\n",
    "print(f\"Result of .upper(): {course_title.upper()}\")\n",
    "print(f\"Result of .lower(): {course_title.lower()}\")\n",
    "print(course_title)"
   ]
  },
  {
   "cell_type": "markdown",
   "id": "c113ccfa-1e07-447e-9312-dda2678bd984",
   "metadata": {},
   "source": [
    "## Exercise: Calculate Disk Usage Percentage\n",
    "\n",
    "In this exercise you’ll combine basic arithmetic with f‑string formatting to report disk usage for a server.\n",
    "\n",
    "Objectives:\n",
    "- Given the variables below, compute the disk usage percentage.\n",
    "- Print the raw percentage value.\n",
    "- Build a human‑readable summary string:\n",
    "  - Convert the server name to uppercase.\n",
    "  - Include the number of CPU cores and amount of RAM.\n",
    "  - Show the disk usage percentage rounded to one decimal place.\n",
    "- Print a summary containing the server name in uppercase, the number of CPU cores, the memory, and the disk usage).\n",
    "- Finally, use the `.2%` format specifier in an f‑string to display the usage with two decimal places and a percent sign.\n"
   ]
  },
  {
   "cell_type": "code",
   "execution_count": 56,
   "id": "146c476b",
   "metadata": {},
   "outputs": [
    {
     "name": "stdout",
     "output_type": "stream",
     "text": [
      "70.0\n",
      "Server 'WEBSERVER-03' (4 cores, 8.0GB RAM) Disk usage: 0.7\n",
      "Server 'WEBSERVER-03' (4 cores, 8.0GB RAM) Disk usage: 70.00%\n"
     ]
    }
   ],
   "source": [
    "server_name = \"webserver-03\"\n",
    "cpu_cores = 4\n",
    "memory_gb = 8.0\n",
    "disk_total_gb = 500\n",
    "disk_used_gb = 350\n",
    "\n",
    "disk_usage_percentage = disk_used_gb / disk_total_gb\n",
    "print(disk_usage_percentage)\n",
    "\n",
    "summary = f\"Server '{server_name.upper()}' ({cpu_cores} cores, {memory_gb}GB RAM) Disk usage: {disk_usage_percentage}\"\n",
    "print(summary)\n",
    "\n",
    "summary_formatted = f\"Server '{server_name.upper()}' ({cpu_cores} cores, {memory_gb}GB RAM) Disk usage: {disk_usage_percentage:.2%}\"\n",
    "print(summary_formatted)"
   ]
  },
  {
   "cell_type": "code",
   "execution_count": null,
   "id": "8a1be08a-a36e-46ef-8398-291103e90086",
   "metadata": {},
   "outputs": [],
   "source": []
  }
 ],
 "metadata": {
  "kernelspec": {
   "display_name": "Python 3 (ipykernel)",
   "language": "python",
   "name": "python3"
  },
  "language_info": {
   "codemirror_mode": {
    "name": "ipython",
    "version": 3
   },
   "file_extension": ".py",
   "mimetype": "text/x-python",
   "name": "python",
   "nbconvert_exporter": "python",
   "pygments_lexer": "ipython3",
   "version": "3.13.3"
  }
 },
 "nbformat": 4,
 "nbformat_minor": 5
}
